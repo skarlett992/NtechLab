{
  "nbformat": 4,
  "nbformat_minor": 0,
  "metadata": {
    "colab": {
      "name": "task_1_NtechLab.ipynb",
      "provenance": [],
      "collapsed_sections": [],
      "authorship_tag": "ABX9TyMvA89tLGxnkSPU8MpbxVgZ",
      "include_colab_link": true
    },
    "kernelspec": {
      "name": "python3",
      "display_name": "Python 3"
    }
  },
  "cells": [
    {
      "cell_type": "markdown",
      "metadata": {
        "id": "view-in-github",
        "colab_type": "text"
      },
      "source": [
        "<a href=\"https://colab.research.google.com/github/skarlett992/NtechLab/blob/master/task_1_NtechLab.ipynb\" target=\"_parent\"><img src=\"https://colab.research.google.com/assets/colab-badge.svg\" alt=\"Open In Colab\"/></a>"
      ]
    },
    {
      "cell_type": "markdown",
      "metadata": {
        "id": "Pvfi_oavJNhV",
        "colab_type": "text"
      },
      "source": [
        "# Первый способ\n",
        "Найти все возможны варианты непрерывных подмассивов массива с помощью цикла в цикле и найдем максимум каждого. "
      ]
    },
    {
      "cell_type": "code",
      "metadata": {
        "id": "AVg-ByN_m3GY",
        "colab_type": "code",
        "colab": {}
      },
      "source": [
        "def findMaxSubArray(A):\n",
        "  \n",
        "  SumsSubArrays = []\n",
        "  SubArrays_and_Sums = []\n",
        "\n",
        "  if len(A)==0:\n",
        "      raise ValueError('Массив должен быть ненулевой длины')\n",
        "  for element in A:\n",
        "    if not type(element) is int:\n",
        "      raise TypeError('Число должно быть целым') \n",
        "  \n",
        "  for start_index in range(0,len(A)+1):\n",
        "    for final_index in range(1,len(A)+1):\n",
        "\n",
        "      if len(A[start_index:\n",
        "               final_index]) > 0:\n",
        "        SubArrays_and_Sums.append([A[start_index:\n",
        "                                  final_index], \n",
        "                                \n",
        "                                sum(A[start_index:\n",
        "                                      final_index])])\n",
        "  \n",
        "  for slice_and_sum in SubArrays_and_Sums:\n",
        "    SumsSubArrays.append(slice_and_sum[1])\n",
        "  max_sum_SubArray = max(SumsSubArrays)\n",
        "\n",
        "  for slice_and_sum in SubArrays_and_Sums:\n",
        "    if slice_and_sum[1] == max_sum_SubArray:\n",
        "      MaxSubArray = slice_and_sum[0]\n",
        "  \n",
        "  return MaxSubArray"
      ],
      "execution_count": 271,
      "outputs": []
    },
    {
      "cell_type": "code",
      "metadata": {
        "id": "W18XniSum1HM",
        "colab_type": "code",
        "colab": {
          "base_uri": "https://localhost:8080/",
          "height": 34
        },
        "outputId": "f56f45e6-0231-4d6a-863a-2226f0b86f9b"
      },
      "source": [
        "findMaxSubArray([-2,1,-3,4,-1,2,1,-5,4])"
      ],
      "execution_count": 272,
      "outputs": [
        {
          "output_type": "execute_result",
          "data": {
            "text/plain": [
              "[4, -1, 2, 1]"
            ]
          },
          "metadata": {
            "tags": []
          },
          "execution_count": 272
        }
      ]
    }
  ]
}